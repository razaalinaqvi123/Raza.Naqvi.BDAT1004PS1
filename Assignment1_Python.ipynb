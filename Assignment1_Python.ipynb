{
 "cells": [
  {
   "cell_type": "markdown",
   "id": "3a6e79e0",
   "metadata": {},
   "source": [
    "# Question 6"
   ]
  },
  {
   "cell_type": "markdown",
   "id": "994dfdfa",
   "metadata": {},
   "source": [
    "\n",
    "\n",
    "def isVowel(ch):\n",
    "    return (ch == 'A' or ch == 'E' or ch == 'I' or ch == 'O' or ch == 'U' or\n",
    "            ch == 'a' or ch == 'e' or ch == 'i' or ch == 'o' or ch == 'u');\n",
    "\n",
    "def pig(word):\n",
    "    index = -1;\n",
    "    for i in range(len(word)):\n",
    "        if (isVowel(word[i])):\n",
    "            index = i;\n",
    "            break;\n",
    "\n",
    "    if (index == -1):\n",
    "        return \"-1\"; #no vowels found\n",
    "\n",
    "    if(index!=-1) :\n",
    "        if(isVowel(word[0])):\n",
    "            return word[index:] + word[0:index] + \"way\";\n",
    "        else:\n",
    "            return word[index:] + word[0:index] + \"ay\";\n",
    "\n",
    "str = pig(\"paris\");\n",
    "str2 = pig(\"enter\");\n",
    "if (str == \"-1\" or str2 ==\"-1\"):\n",
    "    print(\"No vowels found. Pig Latin not possible\");\n",
    "else:\n",
    "    print(str);\n",
    "    print(str2);"
   ]
  },
  {
   "cell_type": "markdown",
   "id": "0aedde2d",
   "metadata": {},
   "source": [
    "# Question 7 "
   ]
  },
  {
   "cell_type": "code",
   "execution_count": 9,
   "id": "0cac335b",
   "metadata": {},
   "outputs": [
    {
     "name": "stdout",
     "output_type": "stream",
     "text": [
      "['AB', 'AB', 'B', 'O', 'A', 'A', 'AB', 'O', 'AB', 'A', 'O', 'O', 'A', 'A', 'A', 'O', 'O', 'O', 'AB', 'O', 'A', 'A', 'A', 'A', 'A', 'AB', 'AB', 'A', 'AB', 'O', 'AB', 'O', 'A', 'O', 'O', 'O', 'AB', 'O', 'AB', 'AB', 'AB', 'A', 'A', 'O']\n"
     ]
    },
    {
     "ename": "TypeError",
     "evalue": "'str' object is not callable",
     "output_type": "error",
     "traceback": [
      "\u001b[1;31m---------------------------------------------------------------------------\u001b[0m",
      "\u001b[1;31mTypeError\u001b[0m                                 Traceback (most recent call last)",
      "\u001b[1;32mC:\\Users\\RAZANA~1\\AppData\\Local\\Temp/ipykernel_24608/2116484102.py\u001b[0m in \u001b[0;36m<module>\u001b[1;34m\u001b[0m\n\u001b[0;32m     21\u001b[0m     \u001b[0mprint\u001b[0m\u001b[1;33m(\u001b[0m\u001b[1;34m\"There are \"\u001b[0m\u001b[1;33m+\u001b[0m\u001b[0mstr\u001b[0m\u001b[1;33m(\u001b[0m\u001b[0msplitString\u001b[0m\u001b[1;33m.\u001b[0m\u001b[0mcount\u001b[0m\u001b[1;33m(\u001b[0m\u001b[1;34m\"OO\"\u001b[0m\u001b[1;33m)\u001b[0m\u001b[1;33m)\u001b[0m\u001b[1;33m+\u001b[0m\u001b[1;34m\" patients of blood type OO\"\u001b[0m\u001b[1;33m)\u001b[0m\u001b[1;33m\u001b[0m\u001b[1;33m\u001b[0m\u001b[0m\n\u001b[0;32m     22\u001b[0m \u001b[1;33m\u001b[0m\u001b[0m\n\u001b[1;32m---> 23\u001b[1;33m \u001b[0mbldcount\u001b[0m\u001b[1;33m(\u001b[0m\u001b[1;33m)\u001b[0m\u001b[1;33m\u001b[0m\u001b[1;33m\u001b[0m\u001b[0m\n\u001b[0m",
      "\u001b[1;32mC:\\Users\\RAZANA~1\\AppData\\Local\\Temp/ipykernel_24608/2116484102.py\u001b[0m in \u001b[0;36mbldcount\u001b[1;34m()\u001b[0m\n\u001b[0;32m     15\u001b[0m     \u001b[0msplitString\u001b[0m \u001b[1;33m=\u001b[0m \u001b[0mlines\u001b[0m\u001b[1;33m[\u001b[0m\u001b[1;36m0\u001b[0m\u001b[1;33m]\u001b[0m\u001b[1;33m.\u001b[0m\u001b[0msplit\u001b[0m\u001b[1;33m(\u001b[0m\u001b[1;33m)\u001b[0m\u001b[1;33m\u001b[0m\u001b[1;33m\u001b[0m\u001b[0m\n\u001b[0;32m     16\u001b[0m     \u001b[0mprint\u001b[0m\u001b[1;33m(\u001b[0m\u001b[0mlines\u001b[0m\u001b[1;33m[\u001b[0m\u001b[1;36m0\u001b[0m\u001b[1;33m]\u001b[0m\u001b[1;33m.\u001b[0m\u001b[0msplit\u001b[0m\u001b[1;33m(\u001b[0m\u001b[1;33m)\u001b[0m\u001b[1;33m)\u001b[0m\u001b[1;33m\u001b[0m\u001b[1;33m\u001b[0m\u001b[0m\n\u001b[1;32m---> 17\u001b[1;33m     \u001b[0mprint\u001b[0m\u001b[1;33m(\u001b[0m\u001b[1;34m\"There are \"\u001b[0m\u001b[1;33m+\u001b[0m\u001b[0mstr\u001b[0m\u001b[1;33m(\u001b[0m\u001b[0msplitString\u001b[0m\u001b[1;33m.\u001b[0m\u001b[0mcount\u001b[0m\u001b[1;33m(\u001b[0m\u001b[1;34m\"A\"\u001b[0m\u001b[1;33m)\u001b[0m\u001b[1;33m)\u001b[0m\u001b[1;33m+\u001b[0m\u001b[1;34m\" patients of blood type A\"\u001b[0m\u001b[1;33m)\u001b[0m\u001b[1;33m\u001b[0m\u001b[1;33m\u001b[0m\u001b[0m\n\u001b[0m\u001b[0;32m     18\u001b[0m     \u001b[0mprint\u001b[0m\u001b[1;33m(\u001b[0m\u001b[1;34m\"There are \"\u001b[0m\u001b[1;33m+\u001b[0m\u001b[0mstr\u001b[0m\u001b[1;33m(\u001b[0m\u001b[0msplitString\u001b[0m\u001b[1;33m.\u001b[0m\u001b[0mcount\u001b[0m\u001b[1;33m(\u001b[0m\u001b[1;34m\"B\"\u001b[0m\u001b[1;33m)\u001b[0m\u001b[1;33m)\u001b[0m\u001b[1;33m+\u001b[0m\u001b[1;34m\" patients of blood type B\"\u001b[0m\u001b[1;33m)\u001b[0m\u001b[1;33m\u001b[0m\u001b[1;33m\u001b[0m\u001b[0m\n\u001b[0;32m     19\u001b[0m     \u001b[0mprint\u001b[0m\u001b[1;33m(\u001b[0m\u001b[1;34m\"There are \"\u001b[0m\u001b[1;33m+\u001b[0m\u001b[0mstr\u001b[0m\u001b[1;33m(\u001b[0m\u001b[0msplitString\u001b[0m\u001b[1;33m.\u001b[0m\u001b[0mcount\u001b[0m\u001b[1;33m(\u001b[0m\u001b[1;34m\"AB\"\u001b[0m\u001b[1;33m)\u001b[0m\u001b[1;33m)\u001b[0m\u001b[1;33m+\u001b[0m\u001b[1;34m\" patients of blood type AB\"\u001b[0m\u001b[1;33m)\u001b[0m\u001b[1;33m\u001b[0m\u001b[1;33m\u001b[0m\u001b[0m\n",
      "\u001b[1;31mTypeError\u001b[0m: 'str' object is not callable"
     ]
    }
   ],
   "source": [
    "def bldcount():\n",
    "    infile = open(\"C:/Users/Raza Naqvi/Desktop/bloodtype1.txt\", \"r\")\n",
    "    lines = infile.readlines()\n",
    "    splitString = lines[0].split()\n",
    "    print(lines[0].split())\n",
    "    print(\"There are \"+str(splitString.count(\"A\"))+\" patients of blood type A\")\n",
    "    print(\"There are \"+str(splitString.count(\"B\"))+\" patients of blood type B\")\n",
    "    print(\"There are \"+str(splitString.count(\"AB\"))+\" patients of blood type AB\")\n",
    "    print(\"There are \"+str(splitString.count(\"O\"))+\" patients of blood type O\")\n",
    "    print(\"There are \"+str(splitString.count(\"OO\"))+\" patients of blood type OO\")\n",
    "\n",
    "bldcount()"
   ]
  },
  {
   "cell_type": "code",
   "execution_count": null,
   "id": "263f9467",
   "metadata": {},
   "outputs": [],
   "source": [
    "# Question 8 Python\n",
    "# Write a function curconv() that takes as input:\n",
    "# 1. a currency represented using a string (e.g., 'JPY' for the Japanese Yen or\n",
    "# 'EUR' for the Euro)\n",
    "# 2. an amount\n",
    "# and then converts and returns the amount in US dollars.\n",
    "# >>> curconv('EUR', 100)\n",
    "# 122.96544\n",
    "# >>> curconv('JPY', 100)\n",
    "# 1.241401\n",
    "# The currency rates you will need are stored in file currencies.txt:\n",
    "# AUD 1.0345157 Australian Dollar\n",
    "# CHF 1.0237414 Swiss Franc\n",
    "# CNY 0.1550176 Chinese Yuan\n",
    "\n",
    "def curconv()"
   ]
  }
 ],
 "metadata": {
  "kernelspec": {
   "display_name": "Python 3 (ipykernel)",
   "language": "python",
   "name": "python3"
  },
  "language_info": {
   "codemirror_mode": {
    "name": "ipython",
    "version": 3
   },
   "file_extension": ".py",
   "mimetype": "text/x-python",
   "name": "python",
   "nbconvert_exporter": "python",
   "pygments_lexer": "ipython3",
   "version": "3.9.7"
  }
 },
 "nbformat": 4,
 "nbformat_minor": 5
}
